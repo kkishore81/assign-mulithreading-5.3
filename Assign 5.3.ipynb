{
 "cells": [
  {
   "cell_type": "code",
   "execution_count": null,
   "id": "d21c8057-3a35-4a3e-bf84-641d14aa3fd0",
   "metadata": {},
   "outputs": [],
   "source": [
    " #Q1  What is multithreading in python? why is it used? Name the module used to handle threads in python"
   ]
  },
  {
   "cell_type": "code",
   "execution_count": 1,
   "id": "341a472f-7390-42ba-ae0e-08c505403143",
   "metadata": {},
   "outputs": [],
   "source": [
    "# Multithreading technique allows multiple tasks to be executed simultaneously.In Python, threads are created using the threading module.\n",
    "#  it is used to improve performance. By running multiple tasks simultaneously.\n",
    "# Threading module is used to handle threads in phyton>"
   ]
  },
  {
   "cell_type": "code",
   "execution_count": 4,
   "id": "8477ba67-a48c-41c2-bc8b-06af7fb97722",
   "metadata": {},
   "outputs": [],
   "source": [
    "\n",
    "#'Q2 Why threading module used? Write the use of the following functions\n",
    "#1.activeCount()\n",
    "#2.currentThread()\n",
    "# 3. enumerate()"
   ]
  },
  {
   "cell_type": "code",
   "execution_count": 6,
   "id": "1019b0b1-9d04-40c6-a257-78b1cc50ce53",
   "metadata": {},
   "outputs": [],
   "source": [
    "# The threading module is used to create and manage threads. it can run concurrently, allowing multiple tasks to be executed simultaneously. \n",
    "#This improves performence'''"
   ]
  },
  {
   "cell_type": "code",
   "execution_count": 7,
   "id": "e87912e5-1254-4040-b3c7-d43cf8deff52",
   "metadata": {},
   "outputs": [],
   "source": [
    "#1.activeCount()\n",
    "# activeCount() method is used to get the number of threads that are currently active.\n",
    "# A thread is considered active if it is running or is waiting to run.\n"
   ]
  },
  {
   "cell_type": "code",
   "execution_count": null,
   "id": "39639b62-d18f-4d9a-90a6-6adc6fbe62ea",
   "metadata": {},
   "outputs": [],
   "source": [
    "# 2. currentThread()\n",
    "# currentThread() method is used to get the current thread object. The current thread object is a Thread object that represents \n",
    " #the thread that is  being currently executing."
   ]
  },
  {
   "cell_type": "code",
   "execution_count": null,
   "id": "6db3b374-eb14-46e3-92f2-be7bcd0a7499",
   "metadata": {},
   "outputs": [],
   "source": [
    "# 3. enumerate()\n",
    "# The enumerate() function in Python is used to get an enumerate object. \n",
    " # An enumerate object is a tuple that contains two elements: the index of the item and the item itself."
   ]
  },
  {
   "cell_type": "code",
   "execution_count": null,
   "id": "1759407f-c08a-44be-b01f-566bb3227240",
   "metadata": {},
   "outputs": [],
   "source": [
    "\n",
    "# 3. Explain the following functions\n",
    " # 1. run() \n",
    " #  2. Start()\n",
    " #  3.Join() \n",
    " #  4. isAlive() \n"
   ]
  },
  {
   "cell_type": "code",
   "execution_count": null,
   "id": "fe18b396-c3ff-4d49-bf5a-027f22786cc8",
   "metadata": {},
   "outputs": [],
   "source": [
    "# 3. Explain the following functions\n",
    " # 1. run() - The run() function is the entry point for a thread. It is the function that is executed when the thread starts. \n",
    " #  2. Start() -The start() function starts a thread.The start() function will not return until the thread has finished executing.\n",
    " #  3.Join() - This method waits for the thread to complete its execution.\n",
    " #  4. isAlive() - This method returns True if the thread is still executing"
   ]
  },
  {
   "cell_type": "code",
   "execution_count": 8,
   "id": "83f5b382-7c5c-4cc9-b2cd-9b1d167dd124",
   "metadata": {},
   "outputs": [],
   "source": [
    "# Q4.Write a python program to create two threads. Thread one must print the list of squares and thread two must print the list of cubes."
   ]
  },
  {
   "cell_type": "code",
   "execution_count": 12,
   "id": "f3219d56-8b85-496a-aefe-d345c2528ad9",
   "metadata": {},
   "outputs": [
    {
     "name": "stdout",
     "output_type": "stream",
     "text": [
      "List of squares: [9, 16, 25, 36, 49]\n",
      "List of cubes: [27, 64, 125, 216, 343]\n"
     ]
    }
   ],
   "source": [
    "import threading\n",
    "\n",
    "def print_squares(numbers):\n",
    "    squares = [num ** 2 for num in numbers]\n",
    "    print(\"List of squares:\", squares)\n",
    "\n",
    "def print_cubes(numbers):\n",
    "    cubes = [num ** 3 for num in numbers]\n",
    "    print(\"List of cubes:\", cubes)\n",
    "\n",
    "if __name__ == \"__main__\":\n",
    "    numbers = [ 3, 4, 5 ,6, 7]\n",
    "    \n",
    "thread1 = threading.Thread(target=print_squares, args=(numbers,))\n",
    "thread2 = threading.Thread(target=print_cubes, args=(numbers,))\n",
    "\n",
    "thread1.start()\n",
    "thread2.start()\n",
    "\n",
    "thread1.join()\n",
    "thread2.join()"
   ]
  },
  {
   "cell_type": "code",
   "execution_count": null,
   "id": "8a748106-a35a-47b0-aebf-0c727ef2634f",
   "metadata": {},
   "outputs": [],
   "source": [
    " # 5. State advantages and disadvantages of multithreading"
   ]
  },
  {
   "cell_type": "code",
   "execution_count": null,
   "id": "40813599-33ee-4f2d-86fa-0e71ba0b6b4b",
   "metadata": {},
   "outputs": [],
   "source": [
    " 'Advantages\n",
    "    it improves performaence and responsiveness\n",
    " Disadvantage\n",
    "    It is complex it can introduce race conditions and deadlocks'"
   ]
  },
  {
   "cell_type": "code",
   "execution_count": null,
   "id": "78860fca-5063-4126-a675-09b8ea90895f",
   "metadata": {},
   "outputs": [],
   "source": [
    "# 6. Explain deadlocks and race conditions"
   ]
  },
  {
   "cell_type": "code",
   "execution_count": null,
   "id": "2a7312c9-87b8-4e99-81ba-10a28085cada",
   "metadata": {},
   "outputs": [],
   "source": [
    "#Deadlocks: These are situations where two or more threads are blocked waiting for each other to release a resource.\n",
    "# Race conditions: This erorr can occur when multiple threads access the same data at the same time."
   ]
  },
  {
   "cell_type": "code",
   "execution_count": null,
   "id": "a9e70db1-8ad8-4dd1-90e1-de0b9833c7e2",
   "metadata": {},
   "outputs": [],
   "source": []
  }
 ],
 "metadata": {
  "kernelspec": {
   "display_name": "Python 3 (ipykernel)",
   "language": "python",
   "name": "python3"
  },
  "language_info": {
   "codemirror_mode": {
    "name": "ipython",
    "version": 3
   },
   "file_extension": ".py",
   "mimetype": "text/x-python",
   "name": "python",
   "nbconvert_exporter": "python",
   "pygments_lexer": "ipython3",
   "version": "3.10.8"
  }
 },
 "nbformat": 4,
 "nbformat_minor": 5
}
